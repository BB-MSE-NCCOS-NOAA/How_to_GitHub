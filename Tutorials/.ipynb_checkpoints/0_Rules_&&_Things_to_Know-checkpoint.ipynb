{
 "cells": [
  {
   "cell_type": "markdown",
   "id": "948506eb",
   "metadata": {},
   "source": [
    "### Welcome!\n",
    "\n",
    "Before we get started, there are some rules and things to know before publishing your repositories to GitHub. In the following [document](https://drive.google.com/file/d/1u9cYDijKjBCeLQcl1wZpt4TFXSTmP-xH/view?usp=sharing), NOAA has stated some information that you should read before moving on (please take the time to read over this)."
   ]
  },
  {
   "cell_type": "markdown",
   "id": "21b741af",
   "metadata": {},
   "source": [
    "#### Greeting\n",
    "\n",
    "Welcome to the [official NOAA GitHub Account](https://github.com/NOAAGov)! NOAA has a strong history of scientific collaboration, coordination, and close engagement with other government partners, non-government organizations, academic institutions, international colleagues, and other members of the scientific research community. NOAA's use of GitHub is intended to share code and content in this spirit of collaboration and open government. A list of accounts and repositories that were not created inside the official NOAA account (@NOAAGov), but that are contributed to by NOAA staff in their official capacity, can be found in the [README file](https://github.com/NOAAGov/NOAA-Affiliated-Projects) of our \"NOAA Affiliated Projects\" repository.\n",
    "\n",
    "What you will find on this page are many of NOAA's \"scientific products\", which may include NOAA software, design patterns, style guides, , code, data, or documentation related to scientific products and research as described by NOAA's Scientific Integrity Policy. This policy defines such products as \"Presentation of the results of scientific activities including the analysis, synthesis, compliation, or translation of scientific information and data into formats for the use of NOAA, the Department of Commerce, or the Nation. __Such products are provided in an open source manner in order to make content available to external developers to fork and build upon them. External developers can also help the project by commenting on content with suggested improvements and questions.__"
   ]
  },
  {
   "cell_type": "markdown",
   "id": "643963ed",
   "metadata": {},
   "source": [
    "#### NOAA Open Source Disclaimer\n",
    "\n",
    "All products found through any official NOAA GitHub account are subject to the following disclaimer:\n",
    "\n",
    "This repository is a scientific product and is not official communication of the National Oceanic and Atmospheric Administration, or the United States Department of Commerce. All NOAA GitHub project code is provided on an __as is__ basis and the user assumes responsibility for its use. Any claims against the Department of Commerce or Department of Commerce bureaus stemming from the use of this GitHub project will be governed by all applicable Federal law. Any reference to specific commercial products, processes, or services by service mark, trademark, manufacturer, or otherwise, does not constitute or imply their endorsement, recommendation or favoring by the Department of Commerce. The Department of Commerce seal and logo, or the seal and logo of a DOC bureau, shall not be used in any manner to imply endorsement of any commercial product or activity by DOC or the United States Government."
   ]
  },
  {
   "cell_type": "markdown",
   "id": "cd25a0e1",
   "metadata": {},
   "source": [
    "#### NOAA License\n",
    "\n",
    "Any code posted to a NOAAGov GitHub public repository must be accompanied by the\n",
    "following statement, in a LICENSE file in the repository:\n",
    "\n",
    "“Software code created by U.S. Government employees is not subject to copyright in the United States\n",
    "(17 U.S.C. §105). The United States/Department of Commerce reserve all rights to seek and obtain\n",
    "copyright protection in countries other than the United States for Software authored in its entirety by the\n",
    "Department of Commerce. To this end, the Department of Commerce hereby grants to Recipient a\n",
    "royalty-free, nonexclusive license to use, copy, and create derivative works of the Software outside of the\n",
    "United States.”\n",
    "\n",
    "By publishing government content to a public GitHub repository, the Information Owner is\n",
    "making it freely available to the public for download and use. It is the Repository Owner’s\n",
    "responsibility to ensure their code contains no proprietary code or information. Failure to do so\n",
    "could lead to legal ramifications for the project and the Department."
   ]
  },
  {
   "cell_type": "markdown",
   "id": "0646260f",
   "metadata": {},
   "source": [
    "#### WHAT NOT TO POST ON GITHUB\n",
    "\n",
    "When considering what content to post on GitHub, no distinction should be made between public and private GitHub repositories, regardless of ownership. GitHub private repositories are only meant to provide a closed environment for working projects not yet ready for public use and should never contain sensitive code. All NOAA projects hosted on GitHub should be suitable for public access and must contain no nonpublic information. For questions about the NOAAGov GitHub account or this guidance document, please contact one of the NOAAGov GitHub administrators."
   ]
  },
  {
   "cell_type": "markdown",
   "id": "b1898adc",
   "metadata": {},
   "source": [
    "__I would highly advise you take a look at the following [document](https://drive.google.com/file/d/1u9cYDijKjBCeLQcl1wZpt4TFXSTmP-xH/view?usp=sharing) before moving forward!__"
   ]
  }
 ],
 "metadata": {
  "kernelspec": {
   "display_name": "Python [conda env:.conda-how_to] *",
   "language": "python",
   "name": "conda-env-.conda-how_to-py"
  },
  "language_info": {
   "codemirror_mode": {
    "name": "ipython",
    "version": 3
   },
   "file_extension": ".py",
   "mimetype": "text/x-python",
   "name": "python",
   "nbconvert_exporter": "python",
   "pygments_lexer": "ipython3",
   "version": "3.7.13"
  }
 },
 "nbformat": 4,
 "nbformat_minor": 5
}
